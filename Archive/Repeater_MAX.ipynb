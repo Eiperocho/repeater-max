{
  "nbformat": 4,
  "nbformat_minor": 0,
  "metadata": {
    "colab": {
      "name": "Repeater_MAX.ipynb",
      "provenance": [],
      "machine_shape": "hm"
    },
    "kernelspec": {
      "name": "python3",
      "display_name": "Python 3"
    },
    "language_info": {
      "name": "python"
    }
  },
  "cells": [
    {
      "cell_type": "code",
      "metadata": {
        "colab": {
          "base_uri": "https://localhost:8080/"
        },
        "id": "WxnoSTMdePEX",
        "outputId": "6828e305-40d4-4b60-a184-fcf0488f9277"
      },
      "source": [
        "!gdown --id 1KL6Bak_krpMBNQTxnayanbGNCk4QYk7w"
      ],
      "execution_count": 1,
      "outputs": [
        {
          "output_type": "stream",
          "name": "stdout",
          "text": [
            "Downloading...\n",
            "From: https://drive.google.com/uc?id=1KL6Bak_krpMBNQTxnayanbGNCk4QYk7w\n",
            "To: /content/intention_repeater_max.cpp\n",
            "\r  0% 0.00/43.8k [00:00<?, ?B/s]\r100% 43.8k/43.8k [00:00<00:00, 6.60MB/s]\n"
          ]
        }
      ]
    },
    {
      "cell_type": "code",
      "metadata": {
        "colab": {
          "base_uri": "https://localhost:8080/"
        },
        "id": "iBs07F0YecBO",
        "outputId": "f95bed0e-4f5a-4fb6-ec87-892a1a9795be"
      },
      "source": [
        "from psutil import virtual_memory\n",
        "ram_gb = virtual_memory().total / 1e9\n",
        "print('Your runtime has {:.1f} gigabytes of available RAM\\n'.format(ram_gb))\n",
        "\n",
        "if ram_gb < 20:\n",
        "  print('Not using a high-RAM runtime')\n",
        "else:\n",
        "  print('You are using a high-RAM runtime!')"
      ],
      "execution_count": 2,
      "outputs": [
        {
          "output_type": "stream",
          "name": "stdout",
          "text": [
            "Your runtime has 54.8 gigabytes of available RAM\n",
            "\n",
            "You are using a high-RAM runtime!\n"
          ]
        }
      ]
    },
    {
      "cell_type": "code",
      "metadata": {
        "id": "DsQigdr3eksm"
      },
      "source": [
        "!g++ -O3 intention_repeater_max.cpp -o intention_repeater_max"
      ],
      "execution_count": 3,
      "outputs": []
    },
    {
      "cell_type": "code",
      "metadata": {
        "colab": {
          "base_uri": "https://localhost:8080/"
        },
        "id": "YvdW6ee_e5n5",
        "outputId": "341a073b-be6b-450b-8782-0a22ecc2f7d2"
      },
      "source": [
        "!/content/intention_repeater_max --dur \"00:00:10\" --imem 45 --intent \"I am Love.\""
      ],
      "execution_count": 6,
      "outputs": [
        {
          "output_type": "stream",
          "name": "stdout",
          "text": [
            "\u001b[1;34mIntention Repeater MAX v5.2 (c)2020-2021 by Anthro Teacher aka Thomas Sweet.\n",
            "Performance benchmark, exponents and flags by Karteek Sheri.\n",
            "Holo-Link framework originally created by Mystic Minds. This implementation by Anthro Teacher.\n",
            "Boosting through Nested Files and Intention Multiplying created by Anthro Teacher.\n",
            "LOADING INTENTION INTO MEMORYtcmalloc: large alloc 2013274112 bytes == 0x563914b9e000 @  0x7fbf520fb887 0x7fbf51e61b8b 0x7fbf51e63133 0x56389a2a13d9 0x7fbf513b7bf7 0x56389a2a305a\n",
            "tcmalloc: large alloc 4026540032 bytes == 0x56398cba0000 @  0x7fbf520fb887 0x7fbf51e61b8b 0x7fbf51e63133 0x56389a2a13d9 0x7fbf513b7bf7 0x56389a2a305a\n",
            "tcmalloc: large alloc 8053071872 bytes == 0x563a7d478000 @  0x7fbf520fb887 0x7fbf51e61b8b 0x7fbf51e63133 0x56389a2a13d9 0x7fbf513b7bf7 0x56389a2a305a\n",
            "tcmalloc: large alloc 16106135552 bytes == 0x563c5dc7a000 @  0x7fbf520fb887 0x7fbf51e61b8b 0x7fbf51e63133 0x56389a2a13d9 0x7fbf513b7bf7 0x56389a2a305a\n",
            "tcmalloc: large alloc 32212262912 bytes == 0x56401e47c000 @  0x7fbf520fb887 0x7fbf51e61b8b 0x7fbf51e63133 0x56389a2a13d9 0x7fbf513b7bf7 0x56389a2a305a\n",
            "tcmalloc: large alloc 24159191040 bytes == 0x5647a047e000 @  0x7fbf520fb887 0x7fbf51e642ad 0x7fbf51e6447a 0x56389a2a141e 0x7fbf513b7bf7 0x56389a2a305a\n",
            "\n",
            "[00:00:10] (2.869Q / 261.334PHz): I am Love.     \n"
          ]
        }
      ]
    }
  ]
}